{
 "cells": [
  {
   "cell_type": "markdown",
   "metadata": {},
   "source": [
    "# Assignment 1"
   ]
  },
  {
   "cell_type": "code",
   "execution_count": 37,
   "metadata": {},
   "outputs": [
    {
     "name": "stdout",
     "output_type": "stream",
     "text": [
      "Requirement already satisfied: pylint in c:\\users\\abc\\anaconda3\\lib\\site-packages (2.5.3)\n",
      "Requirement already satisfied: astroid<=2.5,>=2.4.0 in c:\\users\\abc\\anaconda3\\lib\\site-packages (from pylint) (2.4.2)\n",
      "Requirement already satisfied: isort<5,>=4.2.5 in c:\\users\\abc\\anaconda3\\lib\\site-packages (from pylint) (4.3.21)\n",
      "Requirement already satisfied: colorama; sys_platform == \"win32\" in c:\\users\\abc\\anaconda3\\lib\\site-packages (from pylint) (0.4.3)\n",
      "Requirement already satisfied: mccabe<0.7,>=0.6 in c:\\users\\abc\\anaconda3\\lib\\site-packages (from pylint) (0.6.1)\n",
      "Requirement already satisfied: toml>=0.7.1 in c:\\users\\abc\\anaconda3\\lib\\site-packages (from pylint) (0.10.1)\n",
      "Requirement already satisfied: wrapt~=1.11 in c:\\users\\abc\\anaconda3\\lib\\site-packages (from astroid<=2.5,>=2.4.0->pylint) (1.11.2)\n",
      "Requirement already satisfied: six~=1.12 in c:\\users\\abc\\anaconda3\\lib\\site-packages (from astroid<=2.5,>=2.4.0->pylint) (1.15.0)\n",
      "Requirement already satisfied: lazy-object-proxy==1.4.* in c:\\users\\abc\\anaconda3\\lib\\site-packages (from astroid<=2.5,>=2.4.0->pylint) (1.4.3)\n"
     ]
    }
   ],
   "source": [
    "! pip install pylint"
   ]
  },
  {
   "cell_type": "code",
   "execution_count": 67,
   "metadata": {},
   "outputs": [
    {
     "name": "stdout",
     "output_type": "stream",
     "text": [
      "Overwriting primeno.py\n"
     ]
    }
   ],
   "source": [
    "%%writefile primeno.py\n",
    "'''\n",
    "Hey this is a Simple prime Fuction code\n",
    "'''\n",
    "def prime(num1):\n",
    "    '''\n",
    "    Hey this is a Simple prime Fuction\n",
    "    '''\n",
    "    flag = 0\n",
    "    for i in range(2, num1-1):\n",
    "        if(num1%i == 0):\n",
    "            flag = 1\n",
    "            break\n",
    "    if(flag == 0 and num1 != 1):\n",
    "        return num1\n",
    "    else:\n",
    "        return 0"
   ]
  },
  {
   "cell_type": "code",
   "execution_count": 68,
   "metadata": {},
   "outputs": [
    {
     "name": "stdout",
     "output_type": "stream",
     "text": [
      "************* Module primeno\n",
      "primeno.py:10:0: C0325: Unnecessary parens after 'if' keyword (superfluous-parens)\n",
      "primeno.py:13:4: R1705: Unnecessary \"else\" after \"return\" (no-else-return)\n",
      "\n",
      "------------------------------------------------------------------\n",
      "\n",
      "Your code has been rated at 7.78/10 (previous run: 6.67/10, +1.11)\n",
      "\n",
      "\n",
      "\n"
     ]
    }
   ],
   "source": [
    "! pylint \"primeno.py\" "
   ]
  },
  {
   "cell_type": "code",
   "execution_count": 69,
   "metadata": {},
   "outputs": [
    {
     "name": "stdout",
     "output_type": "stream",
     "text": [
      "Overwriting testprimeno.py\n"
     ]
    }
   ],
   "source": [
    "%%writefile testprimeno.py\n",
    "\n",
    "import unittest\n",
    "import primeno\n",
    "\n",
    "class testCapTitle(unittest.TestCase):\n",
    "    def testprimeno(self):\n",
    "        abc = 2\n",
    "        result = primeno.prime(abc)\n",
    "        self.assertEqual(result,2)  \n",
    "        \n",
    "    def testingMultipleWords(self):\n",
    "        abc = 1\n",
    "        result = primeno.prime(abc)\n",
    "        self.assertEqual(result,0)\n",
    "\n",
    "if __name__ == \"__main__\":\n",
    "    unittest.main() "
   ]
  },
  {
   "cell_type": "code",
   "execution_count": 70,
   "metadata": {},
   "outputs": [
    {
     "name": "stderr",
     "output_type": "stream",
     "text": [
      "..\n",
      "----------------------------------------------------------------------\n",
      "Ran 2 tests in 0.000s\n",
      "\n",
      "OK\n"
     ]
    }
   ],
   "source": [
    "\n",
    "! python testprimeno.py"
   ]
  },
  {
   "cell_type": "code",
   "execution_count": 28,
   "metadata": {},
   "outputs": [],
   "source": []
  },
  {
   "cell_type": "markdown",
   "metadata": {},
   "source": [
    "# Assignment 2"
   ]
  },
  {
   "cell_type": "code",
   "execution_count": 33,
   "metadata": {},
   "outputs": [],
   "source": [
    "def getArmstrong(lst):\n",
    "    for item in lst:\n",
    "        flag=0\n",
    "        s=0\n",
    "        l=item\n",
    "        while(l>0):\n",
    "            p=int(l%10)\n",
    "            s=s+p**3\n",
    "            l=int(l/10)\n",
    "            #print(s)\n",
    "        if(s==item):\n",
    "            yield  item\n",
    "        else:\n",
    "            item+1"
   ]
  },
  {
   "cell_type": "code",
   "execution_count": 34,
   "metadata": {},
   "outputs": [],
   "source": [
    "lists=range(1000)"
   ]
  },
  {
   "cell_type": "code",
   "execution_count": 35,
   "metadata": {},
   "outputs": [
    {
     "name": "stdout",
     "output_type": "stream",
     "text": [
      "[0, 1, 153, 370, 371, 407]\n"
     ]
    }
   ],
   "source": [
    "print(list(getArmstrong(lists)))"
   ]
  },
  {
   "cell_type": "code",
   "execution_count": null,
   "metadata": {},
   "outputs": [],
   "source": []
  }
 ],
 "metadata": {
  "kernelspec": {
   "display_name": "Python 3",
   "language": "python",
   "name": "python3"
  },
  "language_info": {
   "codemirror_mode": {
    "name": "ipython",
    "version": 3
   },
   "file_extension": ".py",
   "mimetype": "text/x-python",
   "name": "python",
   "nbconvert_exporter": "python",
   "pygments_lexer": "ipython3",
   "version": "3.8.3"
  }
 },
 "nbformat": 4,
 "nbformat_minor": 4
}
