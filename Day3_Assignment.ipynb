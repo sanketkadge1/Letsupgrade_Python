{
 "cells": [
  {
   "cell_type": "markdown",
   "metadata": {},
   "source": [
    "# Question1\n"
   ]
  },
  {
   "cell_type": "code",
   "execution_count": 16,
   "metadata": {},
   "outputs": [
    {
     "name": "stdout",
     "output_type": "stream",
     "text": [
      "Enter an Altitude2500\n",
      "Come down to 1000 ft\n"
     ]
    }
   ],
   "source": [
    "ip=input(\"Enter an Altitude\")\n",
    "\n",
    "ip=int(ip)\n",
    "\n",
    "if ip <= 1000:\n",
    "    print(\"Land The Plane\") \n",
    "elif ip > 1000 and ip < 5000:\n",
    "    print(\"Come down to 1000 ft\")\n",
    "else :\n",
    "    print(\"Go Around and Try Later\")\n",
    "    \n"
   ]
  },
  {
   "cell_type": "markdown",
   "metadata": {},
   "source": [
    "# Question2"
   ]
  },
  {
   "cell_type": "code",
   "execution_count": 41,
   "metadata": {},
   "outputs": [
    {
     "name": "stdout",
     "output_type": "stream",
     "text": [
      "2,3,5,7,11,13,17,19,23,29,31,37,41,43,47,53,59,61,67,71,73,79,83,89,97,101,103,107,109,113,127,131,137,139,149,151,157,163,167,173,179,181,191,193,197,199\n"
     ]
    }
   ],
   "source": [
    "a=str('')\n",
    "for i in range(1,200):\n",
    "        flag=0\n",
    "        for j in range(2,i-1):  \n",
    "            if i%j==0:\n",
    "                flag=1\n",
    "                break\n",
    "        if(flag==0 and i!=1):\n",
    "            a=a+str(i)+','\n",
    "print(a[:-1])\n",
    "\n",
    "\n",
    "\n"
   ]
  },
  {
   "cell_type": "code",
   "execution_count": null,
   "metadata": {},
   "outputs": [],
   "source": []
  }
 ],
 "metadata": {
  "kernelspec": {
   "display_name": "Python 3",
   "language": "python",
   "name": "python3"
  },
  "language_info": {
   "codemirror_mode": {
    "name": "ipython",
    "version": 3
   },
   "file_extension": ".py",
   "mimetype": "text/x-python",
   "name": "python",
   "nbconvert_exporter": "python",
   "pygments_lexer": "ipython3",
   "version": "3.8.3"
  }
 },
 "nbformat": 4,
 "nbformat_minor": 4
}
