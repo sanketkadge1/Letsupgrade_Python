{
 "cells": [
  {
   "cell_type": "markdown",
   "metadata": {},
   "source": [
    "# Question1"
   ]
  },
  {
   "cell_type": "code",
   "execution_count": 38,
   "metadata": {},
   "outputs": [
    {
     "name": "stdout",
     "output_type": "stream",
     "text": [
      "first armstrong number : 1741725\n"
     ]
    }
   ],
   "source": [
    "a=1042000\n",
    "while(a<=702648265):\n",
    "    y=a\n",
    "    noofdigit=len(str(y))\n",
    "    z=int(a)\n",
    "    sum=0\n",
    "    while(z>0):\n",
    "        q=int(z%10)\n",
    "        p=1\n",
    "        noofdigit1=noofdigit\n",
    "        while(noofdigit1>0):\n",
    "            p=p*q\n",
    "            noofdigit1=noofdigit1-1    \n",
    "        sum=sum+p\n",
    "        z=int(z/10)    \n",
    "    if(sum==a):\n",
    "        print(\"first armstrong number :\",a)\n",
    "        break;\n",
    "    a=a+1\n",
    "    "
   ]
  },
  {
   "cell_type": "code",
   "execution_count": null,
   "metadata": {},
   "outputs": [],
   "source": []
  }
 ],
 "metadata": {
  "kernelspec": {
   "display_name": "Python 3",
   "language": "python",
   "name": "python3"
  },
  "language_info": {
   "codemirror_mode": {
    "name": "ipython",
    "version": 3
   },
   "file_extension": ".py",
   "mimetype": "text/x-python",
   "name": "python",
   "nbconvert_exporter": "python",
   "pygments_lexer": "ipython3",
   "version": "3.8.3"
  }
 },
 "nbformat": 4,
 "nbformat_minor": 4
}
